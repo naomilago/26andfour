{
  "nbformat": 4,
  "nbformat_minor": 0,
  "metadata": {
    "colab": {
      "name": "Cash Register.ipynb",
      "provenance": [],
      "collapsed_sections": [],
      "authorship_tag": "ABX9TyNHquDh9GIsMlcFgKVg+C3s",
      "include_colab_link": true
    },
    "kernelspec": {
      "name": "python3",
      "display_name": "Python 3"
    },
    "language_info": {
      "name": "python"
    }
  },
  "cells": [
    {
      "cell_type": "markdown",
      "metadata": {
        "id": "view-in-github",
        "colab_type": "text"
      },
      "source": [
        "<a href=\"https://colab.research.google.com/github/naomilago/26andfour/blob/master/Cash_Register.ipynb\" target=\"_parent\"><img src=\"https://colab.research.google.com/assets/colab-badge.svg\" alt=\"Open In Colab\"/></a>"
      ]
    },
    {
      "cell_type": "markdown",
      "source": [
        "# Cash Register\n",
        "\n",
        "\n",
        "\n",
        "---\n",
        "\n",
        "<br />\n",
        "\n",
        "&nbsp;&nbsp;&nbsp;Este exercício tem por objetivo encontrar o valor do troco, dizer quais cédulas e moedas utilizar e converter para dólar. <br>\n",
        "&nbsp;&nbsp;&nbsp;A ideia consiste em encontrar a resposta mais eficiente possível para cada troco."
      ],
      "metadata": {
        "id": "kO4weW93J8e7"
      }
    },
    {
      "cell_type": "code",
      "source": [
        "expense = input('How much was your expense? ')\n",
        "payment = input('How much did you pay? ')\n",
        "\n",
        "if (payment == expense):\n",
        "  change = 0.00\n",
        "  print(f\"\\n You'll receive R${change}!\")\n",
        "\n",
        "elif (payment < expense):\n",
        "  print(\"\\n There's no change due to insufficient funds.\")\n",
        "\n",
        "elif (payment > expense):\n",
        "  change = float(payment) - float(expense)\n",
        "  change_in_dolars = \"{:.2f}\".format(change * 0.18) \n",
        "\n",
        "  print(\"------------------------------------------------------------------ \\n\")\n",
        "  print(f\"\\n Your change will be U${change_in_dolars} and you will receive:\")\n",
        "\n",
        "  amount_of_200_real = 0\n",
        "  amount_of_100_real = 0\n",
        "  amount_of_50_real = 0\n",
        "  amount_of_20_real = 0\n",
        "  amount_of_10_real = 0\n",
        "  amount_of_5_real = 0\n",
        "  amount_of_2_real = 0\n",
        "  amount_of_1_real = 0\n",
        "  amount_of_50_cents = 0\n",
        "  amount_of_25_cents = 0\n",
        "  amount_of_10_cents = 0\n",
        "  amount_of_5_cents = 0\n",
        "\n",
        "  while change > 0:\n",
        "    if (change % 200 == 0):\n",
        "      change -= 200\n",
        "      amount_of_200_real += 1\n",
        "    elif (change % 100 == 0):\n",
        "      change -= 100\n",
        "      amount_of_100_real += 1\n",
        "    elif (change % 50 == 0):\n",
        "      change -= 50\n",
        "      amount_of_50_real += 1\n",
        "    elif (change % 20 == 0):\n",
        "      change -= 20\n",
        "      amount_of_20_real += 1\n",
        "    elif (change % 10 == 0):\n",
        "      change -= 10\n",
        "      amount_of_10_real += 1\n",
        "    elif (change % 5 == 0):\n",
        "      change -= 5\n",
        "      amount_of_5_real += 1\n",
        "    elif (change % 2 == 0):\n",
        "      change -= 2\n",
        "      amount_of_2_real += 1\n",
        "\n",
        "    if (change < 0):\n",
        "      change -= 1\n",
        "\n",
        "  if (amount_of_200_real > 0):\n",
        "    print(f\"\\n {amount_of_200_real}x nota(s) de R$200\")\n",
        "\n",
        "  if (amount_of_100_real > 0):\n",
        "    print(f\"\\n {amount_of_100_real}x nota(s) de R$100\")\n",
        "\n",
        "  if (amount_of_50_real > 0):\n",
        "    print(f\"\\n {amount_of_50_real}x nota(s) de R$50\")\n",
        "\n",
        "  if (amount_of_20_real > 0):\n",
        "    print(f\"\\n {amount_of_20_real}x nota(s) de R$20\")\n",
        "\n",
        "  if (amount_of_10_real > 0):\n",
        "    print(f\"\\n {amount_of_10_real}x nota(s) de R$10\")\n",
        "\n",
        "  if (amount_of_5_real > 0):\n",
        "    print(f\"\\n {amount_of_5_real}x nota(s) de R$5\")\n",
        "  \n",
        "  if (amount_of_2_real > 0):\n",
        "    print(f\"\\n {amount_of_2_real}x nota(s) de R$2\")\n",
        "\n",
        "  if (amount_of_1_real > 0):\n",
        "    print(f\"\\n {amount_of_1_real}x nota(s) de R$1\")\n",
        "  \n",
        "    \n",
        "\n",
        "\n"
      ],
      "metadata": {
        "colab": {
          "base_uri": "https://localhost:8080/"
        },
        "id": "6npvlIhqOhB_",
        "outputId": "d4e18a7c-812c-4241-afd5-d146322220b6"
      },
      "execution_count": 34,
      "outputs": [
        {
          "output_type": "stream",
          "name": "stdout",
          "text": [
            "How much was your expense? 100\n",
            "How much did you pay? 1300\n",
            "------------------------------------------------------------------ \n",
            "\n",
            "\n",
            " Your change will be U$216.00 and you will receive:\n",
            "\n",
            " 6x nota(s) de R$200\n"
          ]
        }
      ]
    }
  ]
}